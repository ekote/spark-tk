{
 "cells": [
  {
   "cell_type": "code",
   "execution_count": null,
   "metadata": {
    "collapsed": true
   },
   "outputs": [],
   "source": [
    "import sparktk as tk\n",
    "from datetime import datetime\n",
    "tc=tk.TkContext()\n",
    "schema = [(\"timestamp\", datetime),(\"humour\", float),(\"name\", str),(\"value\", float)]\n",
    "data = [['2015-01-01T00:00:00.000Z', 5, 'Sarah', 12.88969427 ],['2015-01-02T00:00:00.000Z', 4, 'Sarah', 13.54964408],['2015-01-03T00:00:00.000Z', 7, 'Sarah', 13.8432745],['2015-01-04T00:00:00.000Z', 18, 'Sarah', 12.13843611 ],['2015-01-05T00:00:00.000Z',55,'Sarah', 12.81156092],['2015-01-06T00:00:00.000Z',45,'Sarah', 14.2499628],['2015-01-07T00:00:00.000Z', 0,'Sarah', 15.12102595 ] ]\n",
    "frame = tc.frame.create(data, schema)\n",
    "datetimeindex = ['2015-01-01T00:00:00.000Z','2015-01-02T00:00:00.000Z', '2015-01-03T00:00:00.000Z','2015-01-04T00:00:00.000Z','2015-01-05T00:00:00.000Z', '2015-01-06T00:00:00.000Z','2015-01-07T00:00:00.000Z']"
   ]
  },
  {
   "cell_type": "code",
   "execution_count": null,
   "metadata": {},
   "outputs": [],
   "source": [
    "frame = tc.frame.create(data, schema)"
   ]
  },
  {
   "cell_type": "code",
   "execution_count": null,
   "metadata": {},
   "outputs": [],
   "source": [
    "frame.inspect()"
   ]
  },
  {
   "cell_type": "code",
   "execution_count": null,
   "metadata": {},
   "outputs": [],
   "source": [
    "[#]  timestamp                 humour  name   value      \n",
    "=========================================================\n",
    "[0]  2015-01-01T00:00:00.000Z       5  Sarah  12.88969427\n",
    "[1]  2015-01-02T00:00:00.000Z       4  Sarah  13.54964408\n",
    "[2]  2015-01-03T00:00:00.000Z       7  Sarah   13.8432745\n",
    "[3]  2015-01-04T00:00:00.000Z      18  Sarah  12.13843611\n",
    "[4]  2015-01-05T00:00:00.000Z      55  Sarah  12.81156092\n",
    "[5]  2015-01-06T00:00:00.000Z      45  Sarah   14.2499628\n",
    "[6]  2015-01-07T00:00:00.000Z       0  Sarah  15.12102595"
   ]
  },
  {
   "cell_type": "code",
   "execution_count": null,
   "metadata": {},
   "outputs": [],
   "source": [
    "model = tc.models.timeseries.arx.train(frame, \"value\", [\"humour\"], 0 , 0, True)"
   ]
  },
  {
   "cell_type": "code",
   "execution_count": null,
   "metadata": {},
   "outputs": [],
   "source": [
    "c            = 0.0\n",
    "coefficients = [0.32575512367313336]\n",
    "no_intercept = True\n",
    "x_max_lag    = 0\n",
    "y_max_lag    = 0"
   ]
  },
  {
   "cell_type": "code",
   "execution_count": null,
   "metadata": {},
   "outputs": [],
   "source": [
    "predicted_frame = model.predict(frame, \"value\", [\"humour\"])"
   ]
  },
  {
   "cell_type": "code",
   "execution_count": null,
   "metadata": {},
   "outputs": [],
   "source": [
    "predicted_frame.inspect(columns=[\"value\",\"predicted_y\"])"
   ]
  },
  {
   "cell_type": "code",
   "execution_count": null,
   "outputs": [],
   "source": [
    ""
   ]
  }
 ],
 "metadata": {
  "kernelspec": {
   "display_name": "Python 2",
   "language": "python",
   "name": "python2"
  },
  "language_info": {
   "codemirror_mode": {
    "name": "ipython",
    "version": 2.0
   },
   "file_extension": ".py",
   "mimetype": "text/x-python",
   "name": "python",
   "nbconvert_exporter": "python",
   "pygments_lexer": "ipython2",
   "version": "2.7.6"
  }
 },
 "nbformat": 4,
 "nbformat_minor": 0
}