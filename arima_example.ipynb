{
 "cells": [
  {
   "cell_type": "code",
   "execution_count": null,
   "metadata": {
    "collapsed": true
   },
   "outputs": [],
   "source": [
    "import sparktk as tk\n",
    "from datetime import datetime\n",
    "tc=tk.TkContext()\n",
    "schema = [(\"timestamp\", datetime),(\"name\", str),(\"value\", float)]\n",
    "data = [['2015-01-01T00:00:00.000Z', 'Sarah', 12.88969427 ],['2015-01-02T00:00:00.000Z', 'Sarah', 13.54964408],['2015-01-03T00:00:00.000Z', 'Sarah', 13.8432745],['2015-01-04T00:00:00.000Z', 'Sarah', 12.13843611 ],['2015-01-05T00:00:00.000Z', 'Sarah', 12.81156092],['2015-01-06T00:00:00.000Z', 'Sarah', 14.2499628],['2015-01-07T00:00:00.000Z', 'Sarah', 15.12102595 ] ]\n",
    "datetimeindex = ['2015-01-01T00:00:00.000Z','2015-01-02T00:00:00.000Z', '2015-01-03T00:00:00.000Z','2015-01-04T00:00:00.000Z','2015-01-05T00:00:00.000Z', '2015-01-06T00:00:00.000Z','2015-01-07T00:00:00.000Z']"
   ]
  },
  {
   "cell_type": "code",
   "execution_count": null,
   "metadata": {},
   "outputs": [],
   "source": [
    "frame = tc.frame.create(data, schema)"
   ]
  },
  {
   "cell_type": "code",
   "execution_count": null,
   "metadata": {},
   "outputs": [],
   "source": [
    "frame.inspect()"
   ]
  },
  {
   "cell_type": "code",
   "execution_count": null,
   "metadata": {},
   "outputs": [],
   "source": [
    "[#]  timestamp                 name   value      \n",
    "=================================================\n",
    "[0]  2015-01-01T00:00:00.000Z  Sarah  12.88969427\n",
    "[1]  2015-01-02T00:00:00.000Z  Sarah  13.54964408\n",
    "[2]  2015-01-03T00:00:00.000Z  Sarah   13.8432745\n",
    "[3]  2015-01-04T00:00:00.000Z  Sarah  12.13843611\n",
    "[4]  2015-01-05T00:00:00.000Z  Sarah  12.81156092\n",
    "[5]  2015-01-06T00:00:00.000Z  Sarah   14.2499628\n",
    "[6]  2015-01-07T00:00:00.000Z  Sarah  15.12102595"
   ]
  },
  {
   "cell_type": "code",
   "execution_count": null,
   "metadata": {},
   "outputs": [],
   "source": [
    "ts = frame.timeseries_from_observations(datetimeindex, \"timestamp\",\"name\",\"value\")"
   ]
  },
  {
   "cell_type": "code",
   "execution_count": null,
   "metadata": {},
   "outputs": [],
   "source": [
    "ts.inspect()"
   ]
  },
  {
   "cell_type": "code",
   "execution_count": null,
   "metadata": {},
   "outputs": [],
   "source": [
    "[#]  name \n",
    "==========\n",
    "[0]  Sarah\n",
    "\n",
    "     [#]  value                                                                      \n",
    "     ================================================================================\n",
    "     [0]  [12.88969427, 13.54964408, 13.8432745, 12.13843611, 12.81156092, 14.2499628, 15.12102595]"
   ]
  },
  {
   "cell_type": "code",
   "execution_count": null,
   "metadata": {},
   "outputs": [],
   "source": [
    "ts_frame_data = ts.take(n=1,offset=0,columns=[\"value\"]).data"
   ]
  },
  {
   "cell_type": "code",
   "execution_count": null,
   "metadata": {},
   "outputs": [],
   "source": [
    "ts_frame_data"
   ]
  },
  {
   "cell_type": "code",
   "execution_count": null,
   "metadata": {},
   "outputs": [],
   "source": [
    "[[array([ 12.88969427,  13.54964408,  13.8432745 ,  12.13843611,\n",
    "          12.81156092,  14.2499628 ,  15.12102595])]]"
   ]
  },
  {
   "cell_type": "code",
   "execution_count": null,
   "metadata": {},
   "outputs": [],
   "source": [
    "ts_values = ts_frame_data[0][0].tolist()"
   ]
  },
  {
   "cell_type": "code",
   "execution_count": null,
   "metadata": {},
   "outputs": [],
   "source": [
    "ts_values"
   ]
  },
  {
   "cell_type": "code",
   "execution_count": null,
   "metadata": {},
   "outputs": [],
   "source": [
    "[12.88969427,\n",
    " 13.54964408,\n",
    " 13.8432745,\n",
    " 12.13843611,\n",
    " 12.81156092,\n",
    " 14.2499628,\n",
    " 15.12102595]"
   ]
  },
  {
   "cell_type": "code",
   "execution_count": null,
   "metadata": {},
   "outputs": [],
   "source": [
    "model = tc.models.timeseries.arima.train(ts_values, 1, 0, 1)"
   ]
  },
  {
   "cell_type": "code",
   "execution_count": null,
   "metadata": {},
   "outputs": [],
   "source": [
    "model"
   ]
  },
  {
   "cell_type": "code",
   "execution_count": null,
   "metadata": {},
   "outputs": [],
   "source": [
    "coefficients      = [9.864444620964322, 0.2848511106449633, 0.47346114378593795]\n",
    "d                 = 0\n",
    "include_intercept = True\n",
    "init_params       = None\n",
    "method            = css-cgd\n",
    "p                 = 1\n",
    "q                 = 1\n",
    "ts_values         = [12.88969427, 13.54964408, 13.8432745, 12.13843611, 12.81156092, 14.2499628, 15.12102595]"
   ]
  },
  {
   "cell_type": "code",
   "execution_count": null,
   "metadata": {},
   "outputs": [],
   "source": [
    "model.predict()"
   ]
  },
  {
   "cell_type": "code",
   "execution_count": null,
   "metadata": {},
   "outputs": [],
   "source": [
    "[12.674342627141744,\n",
    " 13.638048984791693,\n",
    " 13.682219498657313,\n",
    " 13.883970022400577,\n",
    " 12.49564914570843,\n",
    " 13.66340392811346,\n",
    " 14.201275185574925]"
   ]
  },
  {
   "cell_type": "code",
   "execution_count": null,
   "metadata": {},
   "outputs": [],
   "source": [
    "model.predict(future_periods=3)"
   ]
  },
  {
   "cell_type": "code",
   "execution_count": null,
   "metadata": {},
   "outputs": [],
   "source": [
    "[12.674342627141744,\n",
    " 13.638048984791693,\n",
    " 13.682219498657313,\n",
    " 13.883970022400577,\n",
    " 12.49564914570843,\n",
    " 13.66340392811346,\n",
    " 14.201275185574925,\n",
    " 14.345159879072785,\n",
    " 13.950679344897772,\n",
    " 13.838311126610202]"
   ]
  }
 ],
 "metadata": {
  "kernelspec": {
   "display_name": "Python 2",
   "language": "python",
   "name": "python2"
  },
  "language_info": {
   "codemirror_mode": {
    "name": "ipython",
    "version": 2.0
   },
   "file_extension": ".py",
   "mimetype": "text/x-python",
   "name": "python",
   "nbconvert_exporter": "python",
   "pygments_lexer": "ipython2",
   "version": "2.7.6"
  }
 },
 "nbformat": 4,
 "nbformat_minor": 0
}